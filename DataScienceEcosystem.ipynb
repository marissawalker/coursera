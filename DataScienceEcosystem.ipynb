{
  "nbformat": 4,
  "nbformat_minor": 0,
  "metadata": {
    "colab": {
      "provenance": []
    },
    "kernelspec": {
      "name": "python3",
      "display_name": "Python 3"
    },
    "language_info": {
      "name": "python"
    }
  },
  "cells": [
    {
      "cell_type": "markdown",
      "source": [
        "# Data Science Tools and Ecosystem"
      ],
      "metadata": {
        "id": "07MddXWBqLfo"
      }
    },
    {
      "cell_type": "markdown",
      "source": [
        "This notebook will briefly describe some of the basic tools of data science."
      ],
      "metadata": {
        "id": "6cnSpV23qf4Y"
      }
    },
    {
      "cell_type": "markdown",
      "source": [
        "**Objectives:**\n",
        "- List some common languages used\n",
        "- List some common libraries used\n",
        "- List some common tools\n"
      ],
      "metadata": {
        "id": "YeIM_RUxyvFo"
      }
    },
    {
      "cell_type": "markdown",
      "source": [
        "Some of the popular languages used in data science are:\n",
        "1. Python (my favorite)\n",
        "2. R\n",
        "3. SQL"
      ],
      "metadata": {
        "id": "dYYD7H2gqwY0"
      }
    },
    {
      "cell_type": "markdown",
      "source": [
        "Some commonly used python libraries in data science are:\n",
        "1. Pandas (useful for dealing with tabular data)\n",
        "2. Scikit-learn (useful for machine learning models)\n",
        "3. Seaborn (useful for data visualization)"
      ],
      "metadata": {
        "id": "eMkehwxUrAjN"
      }
    },
    {
      "cell_type": "markdown",
      "source": [
        "Here are a few useful tools:\n",
        "\n",
        "| Data Science Tools |\n",
        "|-------|\n",
        "|Jupyter Lab|\n",
        "|RStudio|\n",
        "|Github|"
      ],
      "metadata": {
        "id": "LDspL-ZVviEy"
      }
    },
    {
      "cell_type": "markdown",
      "source": [
        "### And now, the next few cells will show some examples of how Python can be used to evaluate arithmetic expressions"
      ],
      "metadata": {
        "id": "3tPA8-HkxeH3"
      }
    },
    {
      "cell_type": "code",
      "execution_count": 1,
      "metadata": {
        "colab": {
          "base_uri": "https://localhost:8080/"
        },
        "id": "8iY4RC81qA6E",
        "outputId": "ffbccd91-7f7c-4a72-8cf8-937a1cfcd47a"
      },
      "outputs": [
        {
          "output_type": "execute_result",
          "data": {
            "text/plain": [
              "17"
            ]
          },
          "metadata": {},
          "execution_count": 1
        }
      ],
      "source": [
        "# For example, you can multiply and add integers easily like this:\n",
        "(3*4)+5"
      ]
    },
    {
      "cell_type": "code",
      "source": [
        "# This will convert 200 minutes to hours by diving by 60:\n",
        "t_min = 200\n",
        "t_hr = t_min/60\n",
        "t_hr"
      ],
      "metadata": {
        "colab": {
          "base_uri": "https://localhost:8080/"
        },
        "id": "vs-dPG9gxxJs",
        "outputId": "899ca993-e6fc-47f8-f56f-b77b79d3d4fb"
      },
      "execution_count": 2,
      "outputs": [
        {
          "output_type": "execute_result",
          "data": {
            "text/plain": [
              "3.3333333333333335"
            ]
          },
          "metadata": {},
          "execution_count": 2
        }
      ]
    },
    {
      "cell_type": "markdown",
      "source": [
        "## Author\n",
        "Marissa Walker"
      ],
      "metadata": {
        "id": "rv-k64eozMNv"
      }
    }
  ]
}